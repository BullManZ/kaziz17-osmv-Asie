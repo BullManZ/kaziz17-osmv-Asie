{
 "cells": [
  {
   "cell_type": "code",
   "execution_count": 2,
   "metadata": {},
   "outputs": [
    {
     "data": {
      "text/plain": "False"
     },
     "execution_count": 2,
     "metadata": {},
     "output_type": "execute_result"
    }
   ],
   "source": [
    "from src.library.params import param\n",
    "from src.library.osmv.Osmv import Osmv\n",
    "param.IS_LOCAL = False\n",
    "osmv = Osmv(param.IS_LOCAL,param.BUCKET_NAME)\n",
    "(dbr, dbc, s3r, s3c, bucket, db_dict) = osmv.select_env(param.ENV_USED)\n",
    "\n",
    "from src.library.helpers.dates import get_dates\n",
    "(list_of_dates,list_obj_dates) = get_dates()\n",
    "\n",
    "from src.library.dynamo.Table import Table\n",
    "from src.library.dynamo.Client import Client\n",
    "DB = Client(dbc)\n",
    "data_table = Table(dbr.Table(db_dict[\"data_table\"]))\n",
    "param.IS_LOCAL"
   ]
  },
  {
   "cell_type": "code",
   "execution_count": 32,
   "metadata": {},
   "outputs": [],
   "source": [
    "# DB.add_index(db_dict[\"data_table\"], \"reverse\", \"trade_date\", \"S\", \"ref\", \"S\")"
   ]
  },
  {
   "cell_type": "code",
   "execution_count": 23,
   "metadata": {},
   "outputs": [],
   "source": [
    "import pandas as pd\n",
    "from pandas.core.common import SettingWithCopyWarning\n",
    "import warnings\n",
    "warnings.simplefilter(action=\"ignore\", category=SettingWithCopyWarning)"
   ]
  },
  {
   "cell_type": "code",
   "execution_count": 33,
   "metadata": {},
   "outputs": [
    {
     "data": {
      "text/plain": [
       "29"
      ]
     },
     "execution_count": 33,
     "metadata": {},
     "output_type": "execute_result"
    }
   ],
   "source": [
    "from src.library.importer.importer import batch_process, get_last_written_date\n",
    "get_last_written_date()"
   ]
  },
  {
   "cell_type": "code",
   "execution_count": 34,
   "metadata": {},
   "outputs": [
    {
     "name": "stdout",
     "output_type": "stream",
     "text": [
      "CPU times: user 3 µs, sys: 1e+03 ns, total: 4 µs\n",
      "Wall time: 8.11 µs\n"
     ]
    }
   ],
   "source": [
    "%%time\n",
    "# batch_process(3,30)"
   ]
  },
  {
   "cell_type": "code",
   "execution_count": 38,
   "metadata": {},
   "outputs": [
    {
     "name": "stdout",
     "output_type": "stream",
     "text": [
      "CPU times: user 5.18 s, sys: 73.7 ms, total: 5.25 s\n",
      "Wall time: 6.77 s\n"
     ]
    },
    {
     "data": {
      "text/html": [
       "<div>\n",
       "<style scoped>\n",
       "    .dataframe tbody tr th:only-of-type {\n",
       "        vertical-align: middle;\n",
       "    }\n",
       "\n",
       "    .dataframe tbody tr th {\n",
       "        vertical-align: top;\n",
       "    }\n",
       "\n",
       "    .dataframe thead th {\n",
       "        text-align: right;\n",
       "    }\n",
       "</style>\n",
       "<table border=\"1\" class=\"dataframe\">\n",
       "  <thead>\n",
       "    <tr style=\"text-align: right;\">\n",
       "      <th></th>\n",
       "      <th>cdh_pnl</th>\n",
       "      <th>p_iv_mid_move</th>\n",
       "      <th>total_volu</th>\n",
       "      <th>ticker</th>\n",
       "      <th>p_iv_ask</th>\n",
       "      <th>c_oi</th>\n",
       "      <th>yte</th>\n",
       "      <th>yte_move</th>\n",
       "      <th>p_iv_bid</th>\n",
       "      <th>vega</th>\n",
       "      <th>...</th>\n",
       "      <th>s_bid</th>\n",
       "      <th>c_ask</th>\n",
       "      <th>c_iv_bid</th>\n",
       "      <th>min_ba</th>\n",
       "      <th>rho_pnl</th>\n",
       "      <th>ref</th>\n",
       "      <th>theta</th>\n",
       "      <th>p_iv_mid</th>\n",
       "      <th>s_ask</th>\n",
       "      <th>i_rate_move</th>\n",
       "    </tr>\n",
       "  </thead>\n",
       "  <tbody>\n",
       "    <tr>\n",
       "      <th>0</th>\n",
       "      <td>0.4485</td>\n",
       "      <td>0.3632</td>\n",
       "      <td>274</td>\n",
       "      <td>A</td>\n",
       "      <td>2.1445</td>\n",
       "      <td>2198</td>\n",
       "      <td>0.0054</td>\n",
       "      <td>-0.0027</td>\n",
       "      <td>0</td>\n",
       "      <td>0.0007</td>\n",
       "      <td>...</td>\n",
       "      <td>4.35</td>\n",
       "      <td>6</td>\n",
       "      <td>0</td>\n",
       "      <td>2.1445</td>\n",
       "      <td>0</td>\n",
       "      <td>A-2013-02-16-40.0</td>\n",
       "      <td>-0.0106</td>\n",
       "      <td>1.0722</td>\n",
       "      <td>5</td>\n",
       "      <td>0.0001</td>\n",
       "    </tr>\n",
       "    <tr>\n",
       "      <th>1</th>\n",
       "      <td>0.0153</td>\n",
       "      <td>0.1651</td>\n",
       "      <td>61</td>\n",
       "      <td>A</td>\n",
       "      <td>0.8863</td>\n",
       "      <td>1141</td>\n",
       "      <td>0.0054</td>\n",
       "      <td>-0.0027</td>\n",
       "      <td>0.7688</td>\n",
       "      <td>0.0041</td>\n",
       "      <td>...</td>\n",
       "      <td>3.47</td>\n",
       "      <td>3.8</td>\n",
       "      <td>0</td>\n",
       "      <td>0.1174</td>\n",
       "      <td>0</td>\n",
       "      <td>A-2013-02-16-41.0</td>\n",
       "      <td>-0.0706</td>\n",
       "      <td>0.8276</td>\n",
       "      <td>3.66</td>\n",
       "      <td>0.0001</td>\n",
       "    </tr>\n",
       "    <tr>\n",
       "      <th>2</th>\n",
       "      <td>-0.0119</td>\n",
       "      <td>-0.1539</td>\n",
       "      <td>761</td>\n",
       "      <td>A</td>\n",
       "      <td>0.8611</td>\n",
       "      <td>1595</td>\n",
       "      <td>0.0054</td>\n",
       "      <td>-0.0027</td>\n",
       "      <td>0</td>\n",
       "      <td>0.0072</td>\n",
       "      <td>...</td>\n",
       "      <td>2.54</td>\n",
       "      <td>3</td>\n",
       "      <td>0</td>\n",
       "      <td>0.8611</td>\n",
       "      <td>0</td>\n",
       "      <td>A-2013-02-16-42.0</td>\n",
       "      <td>-0.1175</td>\n",
       "      <td>0.4305</td>\n",
       "      <td>2.73</td>\n",
       "      <td>0.0001</td>\n",
       "    </tr>\n",
       "    <tr>\n",
       "      <th>3</th>\n",
       "      <td>0.0643</td>\n",
       "      <td>0.1724</td>\n",
       "      <td>2735</td>\n",
       "      <td>A</td>\n",
       "      <td>0.7379</td>\n",
       "      <td>4388</td>\n",
       "      <td>0.0054</td>\n",
       "      <td>-0.0027</td>\n",
       "      <td>0.7097</td>\n",
       "      <td>0.0105</td>\n",
       "      <td>...</td>\n",
       "      <td>1.45</td>\n",
       "      <td>2.09</td>\n",
       "      <td>0.623</td>\n",
       "      <td>0.0281</td>\n",
       "      <td>0</td>\n",
       "      <td>A-2013-02-16-43.0</td>\n",
       "      <td>-0.1736</td>\n",
       "      <td>0.7238</td>\n",
       "      <td>1.71</td>\n",
       "      <td>0.0001</td>\n",
       "    </tr>\n",
       "    <tr>\n",
       "      <th>4</th>\n",
       "      <td>0.0371</td>\n",
       "      <td>0.1461</td>\n",
       "      <td>2252</td>\n",
       "      <td>A</td>\n",
       "      <td>0.6938</td>\n",
       "      <td>9419</td>\n",
       "      <td>0.0054</td>\n",
       "      <td>-0.0027</td>\n",
       "      <td>0.6469</td>\n",
       "      <td>0.0127</td>\n",
       "      <td>...</td>\n",
       "      <td>0.46</td>\n",
       "      <td>1.25</td>\n",
       "      <td>0.5901</td>\n",
       "      <td>0.0469</td>\n",
       "      <td>0</td>\n",
       "      <td>A-2013-02-16-44.0</td>\n",
       "      <td>-0.206</td>\n",
       "      <td>0.6703</td>\n",
       "      <td>0.58</td>\n",
       "      <td>0.0001</td>\n",
       "    </tr>\n",
       "  </tbody>\n",
       "</table>\n",
       "<p>5 rows × 64 columns</p>\n",
       "</div>"
      ],
      "text/plain": [
       "   cdh_pnl p_iv_mid_move total_volu ticker p_iv_ask  c_oi     yte yte_move  \\\n",
       "0   0.4485        0.3632        274      A   2.1445  2198  0.0054  -0.0027   \n",
       "1   0.0153        0.1651         61      A   0.8863  1141  0.0054  -0.0027   \n",
       "2  -0.0119       -0.1539        761      A   0.8611  1595  0.0054  -0.0027   \n",
       "3   0.0643        0.1724       2735      A   0.7379  4388  0.0054  -0.0027   \n",
       "4   0.0371        0.1461       2252      A   0.6938  9419  0.0054  -0.0027   \n",
       "\n",
       "  p_iv_bid    vega  ... s_bid c_ask c_iv_bid  min_ba rho_pnl  \\\n",
       "0        0  0.0007  ...  4.35     6        0  2.1445       0   \n",
       "1   0.7688  0.0041  ...  3.47   3.8        0  0.1174       0   \n",
       "2        0  0.0072  ...  2.54     3        0  0.8611       0   \n",
       "3   0.7097  0.0105  ...  1.45  2.09    0.623  0.0281       0   \n",
       "4   0.6469  0.0127  ...  0.46  1.25   0.5901  0.0469       0   \n",
       "\n",
       "                 ref    theta p_iv_mid s_ask i_rate_move  \n",
       "0  A-2013-02-16-40.0  -0.0106   1.0722     5      0.0001  \n",
       "1  A-2013-02-16-41.0  -0.0706   0.8276  3.66      0.0001  \n",
       "2  A-2013-02-16-42.0  -0.1175   0.4305  2.73      0.0001  \n",
       "3  A-2013-02-16-43.0  -0.1736   0.7238  1.71      0.0001  \n",
       "4  A-2013-02-16-44.0   -0.206   0.6703  0.58      0.0001  \n",
       "\n",
       "[5 rows x 64 columns]"
      ]
     },
     "execution_count": 38,
     "metadata": {},
     "output_type": "execute_result"
    }
   ],
   "source": []
  },
  {
   "cell_type": "code",
   "execution_count": null,
   "metadata": {},
   "outputs": [],
   "source": []
  },
  {
   "cell_type": "code",
   "execution_count": null,
   "metadata": {},
   "outputs": [],
   "source": []
  }
 ],
 "metadata": {
  "kernelspec": {
   "display_name": "Python 3",
   "language": "python",
   "name": "python3"
  },
  "language_info": {
   "codemirror_mode": {
    "name": "ipython",
    "version": 3
   },
   "file_extension": ".py",
   "mimetype": "text/x-python",
   "name": "python",
   "nbconvert_exporter": "python",
   "pygments_lexer": "ipython3",
   "version": "3.8.5"
  }
 },
 "nbformat": 4,
 "nbformat_minor": 4
}